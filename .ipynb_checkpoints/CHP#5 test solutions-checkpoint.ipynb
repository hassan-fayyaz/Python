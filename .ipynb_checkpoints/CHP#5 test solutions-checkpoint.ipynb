{
 "cells": [
  {
   "cell_type": "code",
   "execution_count": 1,
   "metadata": {},
   "outputs": [],
   "source": [
    "st = 'Print only the words that start with s in this sentence'"
   ]
  },
  {
   "cell_type": "code",
   "execution_count": 2,
   "metadata": {},
   "outputs": [],
   "source": [
    "for item in st:\n",
    "    st.split()"
   ]
  },
  {
   "cell_type": "code",
   "execution_count": 3,
   "metadata": {},
   "outputs": [
    {
     "data": {
      "text/plain": [
       "'Print only the words that start with s in this sentence'"
      ]
     },
     "execution_count": 3,
     "metadata": {},
     "output_type": "execute_result"
    }
   ],
   "source": [
    "st"
   ]
  },
  {
   "cell_type": "code",
   "execution_count": 4,
   "metadata": {},
   "outputs": [
    {
     "name": "stdout",
     "output_type": "stream",
     "text": [
      "start s sentence\n"
     ]
    }
   ],
   "source": [
    "words = True\n",
    "\n",
    "if words:\n",
    "    print('start','s','sentence')"
   ]
  },
  {
   "cell_type": "code",
   "execution_count": 5,
   "metadata": {},
   "outputs": [
    {
     "name": "stdout",
     "output_type": "stream",
     "text": [
      "0\n",
      "2\n",
      "4\n",
      "6\n",
      "8\n",
      "10\n"
     ]
    }
   ],
   "source": [
    "for num in range(0,11,2):\n",
    "    print(num)"
   ]
  },
  {
   "cell_type": "code",
   "execution_count": 6,
   "metadata": {},
   "outputs": [],
   "source": [
    "mylist = [x/3 for x in range(0,51) if x %2 == 0]"
   ]
  },
  {
   "cell_type": "code",
   "execution_count": 7,
   "metadata": {},
   "outputs": [
    {
     "data": {
      "text/plain": [
       "[0.0,\n",
       " 0.6666666666666666,\n",
       " 1.3333333333333333,\n",
       " 2.0,\n",
       " 2.6666666666666665,\n",
       " 3.3333333333333335,\n",
       " 4.0,\n",
       " 4.666666666666667,\n",
       " 5.333333333333333,\n",
       " 6.0,\n",
       " 6.666666666666667,\n",
       " 7.333333333333333,\n",
       " 8.0,\n",
       " 8.666666666666666,\n",
       " 9.333333333333334,\n",
       " 10.0,\n",
       " 10.666666666666666,\n",
       " 11.333333333333334,\n",
       " 12.0,\n",
       " 12.666666666666666,\n",
       " 13.333333333333334,\n",
       " 14.0,\n",
       " 14.666666666666666,\n",
       " 15.333333333333334,\n",
       " 16.0,\n",
       " 16.666666666666668]"
      ]
     },
     "execution_count": 7,
     "metadata": {},
     "output_type": "execute_result"
    }
   ],
   "source": [
    "mylist"
   ]
  },
  {
   "cell_type": "code",
   "execution_count": 35,
   "metadata": {},
   "outputs": [
    {
     "name": "stdout",
     "output_type": "stream",
     "text": [
      "FIZZBUZZFIZZBUZZ\n",
      "FIZZBUZZFIZZBUZZ\n",
      "FIZZBUZZFIZZBUZZ\n",
      "FIZZBUZZFIZZBUZZ\n",
      "FIZZBUZZFIZZBUZZ\n",
      "FIZZBUZZFIZZBUZZ\n"
     ]
    }
   ],
   "source": [
    "for num in range(1,101):\n",
    "    string = \"\"\n",
    "    if num % 3 == 0:\n",
    "        string = string + 'FIZZ'\n",
    "    if num % 5 == 0:\n",
    "        string = string + 'BUZZ'\n",
    "    if num %5 == 0 and num %3 == 0:\n",
    "        string = string + 'FIZZBUZZ'\n",
    "        print(string)"
   ]
  },
  {
   "cell_type": "code",
   "execution_count": 36,
   "metadata": {},
   "outputs": [],
   "source": [
    "st = 'Create a list of the first letters of every word in this string'"
   ]
  },
  {
   "cell_type": "code",
   "execution_count": 37,
   "metadata": {},
   "outputs": [],
   "source": [
    "st = [x for x in 'C a l of t f l o e w i t s']"
   ]
  },
  {
   "cell_type": "code",
   "execution_count": null,
   "metadata": {},
   "outputs": [],
   "source": []
  },
  {
   "cell_type": "code",
   "execution_count": null,
   "metadata": {},
   "outputs": [],
   "source": []
  }
 ],
 "metadata": {
  "kernelspec": {
   "display_name": "Python 3",
   "language": "python",
   "name": "python3"
  },
  "language_info": {
   "codemirror_mode": {
    "name": "ipython",
    "version": 3
   },
   "file_extension": ".py",
   "mimetype": "text/x-python",
   "name": "python",
   "nbconvert_exporter": "python",
   "pygments_lexer": "ipython3",
   "version": "3.7.3"
  }
 },
 "nbformat": 4,
 "nbformat_minor": 2
}
